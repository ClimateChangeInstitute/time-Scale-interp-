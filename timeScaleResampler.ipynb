{
 "cells": [
  {
   "cell_type": "markdown",
   "metadata": {},
   "source": [
    "\"\"\"\n",
    "Created May 19,   2019\n",
    "\n",
    "@author: Andrei Kurbatov\n",
    "\"\"\""
   ]
  },
  {
   "cell_type": "markdown",
   "metadata": {},
   "source": [
    "### Requirement 1: Time scale file is comma separated and named TimeScale.csv\n",
    "### Requirement 2: Time scale file  TimeScale.csv column names are: tsdepth and yrb1950\n",
    "### Requirement 3:  File with depths shoudl be named: SamplesDepths.csv with a columnt name: depth"
   ]
  },
  {
   "cell_type": "code",
   "execution_count": 75,
   "metadata": {},
   "outputs": [],
   "source": [
    "import pandas as pd\n",
    "import numpy as np\n",
    "np.set_printoptions(precision=3)"
   ]
  },
  {
   "cell_type": "markdown",
   "metadata": {},
   "source": [
    "## Setup  input and output files"
   ]
  },
  {
   "cell_type": "code",
   "execution_count": 77,
   "metadata": {},
   "outputs": [],
   "source": [
    "# Create a new file to output data: SamplesDepths.csv\n",
    "f_wAges='SamplesAges.txt'\n",
    "# File with a time scale: TimeScale.csv'\n",
    "tsFilePath='TimeScale.csv'\n",
    "# Open file SamplesDepths with sample depths stored in the column named depth\n",
    "sampleDepths = pd.read_csv('SamplesDepths.csv',index_col=False)"
   ]
  },
  {
   "cell_type": "markdown",
   "metadata": {},
   "source": [
    "## Interpolate data"
   ]
  },
  {
   "cell_type": "code",
   "execution_count": 78,
   "metadata": {},
   "outputs": [],
   "source": [
    "ts_df=pd.read_csv(tsFilePath, sep=',', engine='python',  index_col=False)\n",
    "#interpolate sample ages from sample depths1 using time scale tsdepth1, yearbp1\n",
    "samplYr=np.interp(sampleDepths['depth'], ts_df['tsdepth'],  np.float64(ts_df['yrbp1950']))\n",
    "sampleAges=pd.DataFrame(samplYr, columns=['YearBefore1950'])\n",
    "sampleAges.to_csv(f_wAges, index = False, header=True)"
   ]
  },
  {
   "cell_type": "code",
   "execution_count": null,
   "metadata": {},
   "outputs": [],
   "source": []
  }
 ],
 "metadata": {
  "kernelspec": {
   "display_name": "Python 3",
   "language": "python",
   "name": "python3"
  },
  "language_info": {
   "codemirror_mode": {
    "name": "ipython",
    "version": 3
   },
   "file_extension": ".py",
   "mimetype": "text/x-python",
   "name": "python",
   "nbconvert_exporter": "python",
   "pygments_lexer": "ipython3",
   "version": "3.7.7"
  }
 },
 "nbformat": 4,
 "nbformat_minor": 4
}
